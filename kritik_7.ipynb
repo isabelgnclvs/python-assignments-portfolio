{
 "cells": [
  {
   "cell_type": "code",
   "execution_count": 3,
   "id": "6637118d-4e6a-404a-8a76-b663288af4c9",
   "metadata": {},
   "outputs": [
    {
     "name": "stdout",
     "output_type": "stream",
     "text": [
      "The mean of the test scores is 82.382 !\n",
      "The standard deviation of the test scores is 10.193467189005581 !\n",
      "t0 is equal to 2.290087686017293 !\n",
      "t⁎ is equal to 2.2522252225222523 !\n",
      "T-test results: False  -> oh...🥲 womp womp\n"
     ]
    }
   ],
   "source": [
    "import numpy as np\n",
    "from scipy.special import gamma\n",
    "\n",
    "#(i) Write function using only standard arithmetic operations to compute the mean and standard deviation of a list of numerical data. You may use the len() function to obtain your sample size.\n",
    "\n",
    "test_scores = [92.64,79.00,84.79,97.41,93.68,65.23,84.50,73.49,73.97,79.11] # list of test scores\n",
    "\n",
    "def mean_scores(test_scores): # define a function that calculates the mean of the test scores\n",
    "    total = 0 # initialize total\n",
    "    for score in test_scores: # for loop to iterate through scores in list\n",
    "        total += score # add each score to the total\n",
    "    mean = total/len(test_scores) \n",
    "    return mean\n",
    "print (\"The mean of the test scores is\", mean_scores(test_scores), \"!\") # call the mean_scores function and print the result\n",
    "\n",
    "def standard_dev(test_scores): # define a function that calculates the standard deviation of the test scores\n",
    "    mean = mean_scores(test_scores) # call the mean_scores function to get the mean\n",
    "    variance_n = 0 # initialize variance\n",
    "    for score in test_scores: # for loop to iterate through scores in list\n",
    "        variance_n += (score-mean)**2 # calculate the numerator of the variance formula\n",
    "    st_dev = ((variance_n/(len(test_scores)-1))**(1/2)) # use the variance result to calculate standard deviation\n",
    "    return st_dev\n",
    "print (\"The standard deviation of the test scores is\", standard_dev(test_scores) , \"!\") # call the standard_dev function and print the result\n",
    "\n",
    "# (ii) Write a function that takes the output of the previous function and computes a value of t(0).\n",
    "\n",
    "def find_t0(test_scores): # define a function to calculate t(0) -> formula provided in kritik pdf\n",
    "    mean = mean_scores(test_scores) # call the mean_scores function to get the mean of the test scores\n",
    "    st_dev = standard_dev(test_scores) # call the standard_dev function to get the standard variance\n",
    "    t0 = (mean-75)/(st_dev/(len(test_scores)**0.5)) \n",
    "    return t0 \n",
    "print (\"t0 is equal to\", (find_t0(test_scores)), \"!\") # call the find_t0 function and print the result\n",
    "\n",
    "# (iii) To find the value t∗, we can integrate the density function from 0 onward and stop when we find the area equal to 0.95/2=0.475. Here is the code to do that:\n",
    " \n",
    "def t_distribution_pdf(x, nu): # this code is provided by greg, i just inserted it where applicable\n",
    "    coeff = gamma((nu + 1) / 2) / (np.sqrt(nu * np.pi) * gamma(nu / 2))\n",
    "    density = coeff * (1 + x**2 / nu) ** (-0.5 * (nu + 1))\n",
    "    return density\n",
    "\n",
    "def find_t_star(nu=(len(test_scores))-1, prob=0.95, x_start=0, x_end=20, num_points=10000):\n",
    "    x = np.linspace (x_start, x_end, num_points)\n",
    "    # Apply the density function to the x values\n",
    "    y = t_distribution_pdf(x, nu)\n",
    "    # Integrate the density function using the trapezoidal rule\n",
    "    cdf = np.cumsum(y) * (x[1] - x[0])\n",
    "    # Find the t-value where the cumulative probability reaches half of the required probability\n",
    "    target_half_prob = prob / 2\n",
    "    index = np.where(cdf >= target_half_prob)[0][0]\n",
    "    return x[index]\n",
    "print (\"t⁎ is equal to\", find_t_star(nu=(len(test_scores))-1, prob=0.95, x_start=0, x_end=20, num_points=10000), \"!\") #call the find_t_star function and print the result\n",
    "\n",
    "# (iv) Write a function that takes in the value t∗ and the value t0 and returns True if t0 ∈ [−t∗, t∗] and false otherwise.\n",
    "\n",
    "def t_test(test_scores): # define a function to check if t0 lies within [−t∗, t∗]\n",
    "    t0 = find_t0(test_scores) # call find_t0 \n",
    "    t_star = find_t_star(nu=(len(test_scores))-1, prob=0.95, x_start=0, x_end=20, num_points=10000) # call find_t_star\n",
    "    if -t_star <= t0 <= t_star: \n",
    "        return True \n",
    "    else:\n",
    "        return False\n",
    "print (\"T-test results:\", t_test(test_scores), \" -> oh...🥲 womp womp\") # added the womp womp because it returned false"
   ]
  },
  {
   "cell_type": "markdown",
   "id": "49395741-0db7-40a1-8412-29a51f33eaf8",
   "metadata": {},
   "source": [
    "(v) For the data given in the scenario, apply your homebrew t-test. What is your conclusion? Can we conclude µ = 75? Based on the value of t0, would you say that the statistical evidence suggests that the new teaching techniques is beneficial, or detrimental?\n",
    "\n",
    "- conclusion = µ cannot equal 75 as our homebrew t-test returned false\n",
    "- the new teaching technique is suggested to be beneficial to test scores as t0 is > than t⁎"
   ]
  }
 ],
 "metadata": {
  "kernelspec": {
   "display_name": "Python 3 (ipykernel)",
   "language": "python",
   "name": "python3"
  },
  "language_info": {
   "codemirror_mode": {
    "name": "ipython",
    "version": 3
   },
   "file_extension": ".py",
   "mimetype": "text/x-python",
   "name": "python",
   "nbconvert_exporter": "python",
   "pygments_lexer": "ipython3",
   "version": "3.11.4"
  }
 },
 "nbformat": 4,
 "nbformat_minor": 5
}
