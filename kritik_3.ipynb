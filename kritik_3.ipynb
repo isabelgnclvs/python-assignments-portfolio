{
 "cells": [
  {
   "cell_type": "code",
   "execution_count": 1,
   "id": "6d565ac2-7061-41b0-bb3b-72b34cd1b081",
   "metadata": {},
   "outputs": [
    {
     "name": "stdout",
     "output_type": "stream",
     "text": [
      "(0.99999999, 1.00000001)\n"
     ]
    }
   ],
   "source": [
    "def central_diff(f, c, delta_x=1e-8): # calculate difference of f at c\n",
    "    f_prime = (f(c + delta_x) - f(c - delta_x)) / (2 * delta_x)\n",
    "    return f_prime\n",
    "\n",
    "def linear_approx(f, c, x, f_prime): # calculate linear approx of f near c\n",
    "    return f(c) + f_prime * (x - c)\n",
    "\n",
    "def find_x1_x2(f, c, E): # find x1 and x2 such that |f(x) - L| <= E, where L is the linear approximation of f at c\n",
    "    x1 = None\n",
    "    x2 = None\n",
    "    delta_x = 1e-8 # step size for iterating around c\n",
    "\n",
    "    max_iterations = 10000 # max number of iterations\n",
    "\n",
    "    f_prime = central_diff(f, c) # derivative of f at c\n",
    "\n",
    "    for i in range(1, max_iterations): # iterate to find x1\n",
    "        x_test = c - (i * delta_x)\n",
    "        L = linear_approx(f, c, x_test, f_prime)\n",
    "        if abs(f(x_test) - L) <= E:\n",
    "            x1 = x_test\n",
    "            break\n",
    "\n",
    "    for i in range(1, max_iterations): # iterate to find x2\n",
    "        x_test = c + (i * delta_x)\n",
    "        L = linear_approx(f, c, x_test, f_prime)\n",
    "        if abs(f(x_test) - L) <= E:\n",
    "            x2 = x_test\n",
    "            break\n",
    "\n",
    "    if x1 is not None and x2 is not None and x1 != x2: # check if x1 and 2 are different\n",
    "        return x1, x2\n",
    "    else:\n",
    "        return \"x1 and x2 cannot be found.\"\n",
    "\n",
    "f = lambda x: x**2\n",
    "c = 1.0\n",
    "E = 0.1\n",
    "\n",
    "result = find_x1_x2(f, c, E) # find and print result\n",
    "print (result)"
   ]
  },
  {
   "cell_type": "code",
   "execution_count": 6,
   "id": "67cdac79-9113-4c80-b493-8170c232533b",
   "metadata": {},
   "outputs": [
    {
     "name": "stdout",
     "output_type": "stream",
     "text": [
      "(0.7853981533974482, 0.7853981733974483)\n"
     ]
    }
   ],
   "source": [
    "import numpy as np\n",
    "\n",
    "def central_diff(f, c, delta_x=1e-8): # calculate difference of f at c\n",
    "    f_prime = (f(c + delta_x) - f(c - delta_x)) / (2 * delta_x)\n",
    "    return f_prime\n",
    "\n",
    "def linear_approx(f, c, x, f_prime): # calculate linear approx of f near c\n",
    "    return f(c) + f_prime * (x - c)\n",
    "\n",
    "def find_x1_x2(f, c, E): # find x1 and x2 such that |f(x) - L| <= E, where L is the linear approximation of f at c\n",
    "    x1 = None\n",
    "    x2 = None\n",
    "    delta_x = 1e-8 # step size for iterating around c\n",
    "\n",
    "    max_iterations = 10000 # max number of iterations\n",
    "\n",
    "    f_prime = central_diff(f, c) # derivative of f at c\n",
    "\n",
    "    for i in range(1, max_iterations): # iterate to find x1\n",
    "        x_test = c - (i * delta_x)\n",
    "        L = linear_approx(f, c, x_test, f_prime)\n",
    "        if abs(f(x_test) - L) <= E:\n",
    "            x1 = x_test\n",
    "            break\n",
    "\n",
    "    for i in range(1, max_iterations): # iterate to find x2\n",
    "        x_test = c + (i * delta_x)\n",
    "        L = linear_approx(f, c, x_test, f_prime)\n",
    "        if abs(f(x_test) - L) <= E:\n",
    "            x2 = x_test\n",
    "            break\n",
    "\n",
    "    if x1 is not None and x2 is not None and x1 != x2: # check if x1 and 2 are different\n",
    "        return x1, x2\n",
    "    else:\n",
    "        return \"x1 and x2 cannot be found.\"\n",
    "\n",
    "f = lambda x: np.sin(x)\n",
    "c = np.pi/4\n",
    "E = 0.05\n",
    "\n",
    "result = find_x1_x2(f, c, E) # find and print result\n",
    "print (result)"
   ]
  },
  {
   "cell_type": "code",
   "execution_count": null,
   "id": "cf1655ba-404f-4d0b-98e9-05a3439d0f5c",
   "metadata": {},
   "outputs": [],
   "source": []
  }
 ],
 "metadata": {
  "kernelspec": {
   "display_name": "Python 3 (ipykernel)",
   "language": "python",
   "name": "python3"
  },
  "language_info": {
   "codemirror_mode": {
    "name": "ipython",
    "version": 3
   },
   "file_extension": ".py",
   "mimetype": "text/x-python",
   "name": "python",
   "nbconvert_exporter": "python",
   "pygments_lexer": "ipython3",
   "version": "3.11.4"
  }
 },
 "nbformat": 4,
 "nbformat_minor": 5
}
