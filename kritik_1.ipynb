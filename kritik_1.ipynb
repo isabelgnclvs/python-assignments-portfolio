{
 "cells": [
  {
   "cell_type": "code",
   "execution_count": 1,
   "id": "c349520e-9655-40f5-baa8-d59e0f69e82b",
   "metadata": {},
   "outputs": [
    {
     "name": "stdout",
     "output_type": "stream",
     "text": [
      "for x = -1: Error!\n",
      "for x = 0: (0.0, 1, 0.0)\n",
      "for x = 0.25: (0.24497825985863092, 3, 8.719308035714285e-06)\n",
      "for x = 0.5: (0.46363988658910527, 5, 4.438920454545455e-05)\n",
      "for x = 0.75: (0.6434813024840855, 11, 5.816761029294689e-05)\n",
      "for x = 1: (0.7854481533989477, 5000, 9.999000099990002e-05)\n"
     ]
    }
   ],
   "source": [
    "def sloth (x):\n",
    "    if 0 <= x <= 1: # check if x is between 0 and 1\n",
    "        n = 0 # initialize the variable\n",
    "        a = ((-1)**n * (x**(2 * n + 1))) / (2 * n + 1) # initialize the approximation of arctan\n",
    "        error_bound = (x**(2 * n + 1)) / (2 * n + 1) # initialize the error bound\n",
    "        while True: \n",
    "            n += 1 # increment while loop\n",
    "            a += ((-1)**n * (x**(2 * n + 1))) / (2 * n + 1) # update the approximation\n",
    "            error_bound = (x**(2 * n + 1)) / (2 * n + 1) # update the error bound\n",
    "            if error_bound < 0.0001:\n",
    "              break # break if the error bound is below 0.0001\n",
    "        return (a,n,error_bound) # return error bound if not\n",
    "    if x < 0 or x > 1: # print error if x is not between 0 and 1\n",
    "        return \"Error!\"\n",
    "\n",
    "inputs = [-1,0,0.25,0.5,0.75,1]\n",
    "for x in inputs: # return results for given x values\n",
    "    result = sloth(x)\n",
    "    print(f\"for x = {x}: {result}\")"
   ]
  },
  {
   "cell_type": "code",
   "execution_count": null,
   "id": "2105d30c-290b-489d-9033-7c33e606355f",
   "metadata": {},
   "outputs": [],
   "source": []
  }
 ],
 "metadata": {
  "kernelspec": {
   "display_name": "Python 3 (ipykernel)",
   "language": "python",
   "name": "python3"
  },
  "language_info": {
   "codemirror_mode": {
    "name": "ipython",
    "version": 3
   },
   "file_extension": ".py",
   "mimetype": "text/x-python",
   "name": "python",
   "nbconvert_exporter": "python",
   "pygments_lexer": "ipython3",
   "version": "3.11.4"
  }
 },
 "nbformat": 4,
 "nbformat_minor": 5
}
