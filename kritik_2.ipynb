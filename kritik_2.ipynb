{
 "cells": [
  {
   "cell_type": "code",
   "execution_count": 14,
   "id": "c48b5494-4721-4e88-8aa3-ab54abdbca2f",
   "metadata": {},
   "outputs": [
    {
     "name": "stdout",
     "output_type": "stream",
     "text": [
      "Root in interval [0, 1]: 0.2698741375352256\n"
     ]
    }
   ],
   "source": [
    "import math\n",
    "\n",
    "def f(x): # define function for bisection\n",
    "    if x == 0:\n",
    "        x = x + 0.0000000001\n",
    "    return math.exp(x) + math.log(x)\n",
    "\n",
    "def bisec(a, b): # bisection method to find roots of f(x) in interval [a,b]\n",
    "    if f(a) * f(b) >= 0: # check if signs are the same\n",
    "        print(\"error: f(a) and f(b) should have opposite signs.\")\n",
    "        return None\n",
    "\n",
    "    while (b - a) >= 0.0000000001: # narrow down interval\n",
    "        c = (a + b) / 2  # calculate midpoint of the interval\n",
    "        if f(c) * f(a) < 0: # check if the root is in the left or right of interval\n",
    "            b = c  # update the right endpoint of the interval\n",
    "        else:\n",
    "            a = c  # update the left endpoint of the interval\n",
    "\n",
    "    return c  # return the root\n",
    "\n",
    "a = 0 # define a and b of interval\n",
    "b = 1\n",
    "\n",
    "result = bisec(a, b) # find root uisng bisection\n",
    "if result is not None: \n",
    "    print(f\"Root in interval [{a}, {b}]: {result}\") # print result"
   ]
  },
  {
   "cell_type": "code",
   "execution_count": 15,
   "id": "eefad52d-caf2-4b3b-a7a7-35f63423d5cb",
   "metadata": {},
   "outputs": [
    {
     "name": "stdout",
     "output_type": "stream",
     "text": [
      "Root in interval [0, 2]: 0.8336061944137327\n"
     ]
    }
   ],
   "source": [
    "def f(x): # define function for bisection\n",
    "    if x == 0:\n",
    "        x = x + 0.0000000001\n",
    "    return math.atan(x)-x**2\n",
    "\n",
    "def bisec(a, b): # bisection method to find roots of f(x) in interval [a,b]\n",
    "    if f(a) * f(b) >= 0: # check if signs are the same\n",
    "        print(\"error: f(a) and f(b) should have opposite signs.\")\n",
    "        return None\n",
    "\n",
    "    while (b - a) >= 0.0000000001: # narrow down interval\n",
    "        c = (a + b) / 2  # calculate midpoint of the interval\n",
    "        if f(c) * f(a) < 0: # check if the root is in the left or right of interval\n",
    "            b = c  # update the right endpoint of the interval\n",
    "        else:\n",
    "            a = c  # update the left endpoint of the interval\n",
    "\n",
    "    return c  # return the root\n",
    "\n",
    "a = 0 # define a and b of interval\n",
    "b = 2\n",
    "\n",
    "result = bisec(a, b) # find root uisng bisection\n",
    "if result is not None: \n",
    "    print(f\"Root in interval [{a}, {b}]: {result}\") # print result"
   ]
  },
  {
   "cell_type": "code",
   "execution_count": 15,
   "id": "ef72ca51-2364-4a31-b2cd-8e1de42f7bcf",
   "metadata": {},
   "outputs": [
    {
     "name": "stdout",
     "output_type": "stream",
     "text": [
      "Root in interval [0, 2]: 0.8336061944137327\n"
     ]
    }
   ],
   "source": [
    "def f(x): # define function for bisection\n",
    "    if x == 0:\n",
    "        x = x + 0.0000000001\n",
    "    return math.atan(x)-x**2\n",
    "\n",
    "def bisec(a, b): # bisection method to find roots of f(x) in interval [a,b]\n",
    "    if f(a) * f(b) >= 0: # check if signs are the same\n",
    "        print(\"error: f(a) and f(b) should have opposite signs.\")\n",
    "        return None\n",
    "\n",
    "    while (b - a) >= 0.0000000001: # narrow down interval\n",
    "        c = (a + b) / 2  # calculate midpoint of the interval\n",
    "        if f(c) * f(a) < 0: # check if the root is in the left or right of interval\n",
    "            b = c  # update the right endpoint of the interval\n",
    "        else:\n",
    "            a = c  # update the left endpoint of the interval\n",
    "\n",
    "    return c  # return the root\n",
    "\n",
    "a = 0 # define a and b of interval\n",
    "b = 2\n",
    "\n",
    "result = bisec(a, b) # find root uisng bisection\n",
    "if result is not None: \n",
    "    print(f\"Root in interval [{a}, {b}]: {result}\") # print result"
   ]
  },
  {
   "cell_type": "code",
   "execution_count": null,
   "id": "56ece88e-cf98-4c02-a2d3-4db06e547687",
   "metadata": {},
   "outputs": [],
   "source": []
  }
 ],
 "metadata": {
  "kernelspec": {
   "display_name": "Python 3 (ipykernel)",
   "language": "python",
   "name": "python3"
  },
  "language_info": {
   "codemirror_mode": {
    "name": "ipython",
    "version": 3
   },
   "file_extension": ".py",
   "mimetype": "text/x-python",
   "name": "python",
   "nbconvert_exporter": "python",
   "pygments_lexer": "ipython3",
   "version": "3.11.4"
  }
 },
 "nbformat": 4,
 "nbformat_minor": 5
}
